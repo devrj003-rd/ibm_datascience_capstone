{
 "cells": [
  {
   "cell_type": "code",
   "execution_count": 5,
   "metadata": {},
   "outputs": [
    {
     "ename": "SyntaxError",
     "evalue": "invalid syntax (<ipython-input-5-3aca62285456>, line 2)",
     "output_type": "error",
     "traceback": [
      "\u001b[1;36m  File \u001b[1;32m\"<ipython-input-5-3aca62285456>\"\u001b[1;36m, line \u001b[1;32m2\u001b[0m\n\u001b[1;33m    pip install bs4\u001b[0m\n\u001b[1;37m        ^\u001b[0m\n\u001b[1;31mSyntaxError\u001b[0m\u001b[1;31m:\u001b[0m invalid syntax\n"
     ]
    }
   ],
   "source": [
    "#pip install geocoder"
   ]
  },
  {
   "cell_type": "code",
   "execution_count": 2,
   "metadata": {
    "collapsed": true
   },
   "outputs": [
    {
     "ename": "NameError",
     "evalue": "name 'postal_code' is not defined",
     "output_type": "error",
     "traceback": [
      "\u001b[1;31m---------------------------------------------------------------------------\u001b[0m",
      "\u001b[1;31mNameError\u001b[0m                                 Traceback (most recent call last)",
      "\u001b[1;32m<ipython-input-2-9cc2bc5ae22e>\u001b[0m in \u001b[0;36m<module>\u001b[1;34m\u001b[0m\n\u001b[0;32m      4\u001b[0m \u001b[1;33m\u001b[0m\u001b[0m\n\u001b[0;32m      5\u001b[0m \u001b[1;32mwhile\u001b[0m\u001b[1;33m(\u001b[0m\u001b[0mlat_lng_coords\u001b[0m \u001b[1;32mis\u001b[0m \u001b[1;32mNone\u001b[0m\u001b[1;33m)\u001b[0m\u001b[1;33m:\u001b[0m\u001b[1;33m\u001b[0m\u001b[1;33m\u001b[0m\u001b[0m\n\u001b[1;32m----> 6\u001b[1;33m     \u001b[0mg\u001b[0m \u001b[1;33m=\u001b[0m \u001b[0mgeocoder\u001b[0m\u001b[1;33m.\u001b[0m\u001b[0mgoogle\u001b[0m\u001b[1;33m(\u001b[0m\u001b[1;34m'{}, Toronto, Ontario'\u001b[0m\u001b[1;33m.\u001b[0m\u001b[0mformat\u001b[0m\u001b[1;33m(\u001b[0m\u001b[0mpostal_code\u001b[0m\u001b[1;33m)\u001b[0m\u001b[1;33m)\u001b[0m\u001b[1;33m\u001b[0m\u001b[1;33m\u001b[0m\u001b[0m\n\u001b[0m\u001b[0;32m      7\u001b[0m     \u001b[0mlat_lng_coords\u001b[0m \u001b[1;33m=\u001b[0m \u001b[0mg\u001b[0m\u001b[1;33m.\u001b[0m\u001b[0mlatlng\u001b[0m\u001b[1;33m\u001b[0m\u001b[1;33m\u001b[0m\u001b[0m\n\u001b[0;32m      8\u001b[0m \u001b[1;33m\u001b[0m\u001b[0m\n",
      "\u001b[1;31mNameError\u001b[0m: name 'postal_code' is not defined"
     ]
    }
   ],
   "source": [
    "import geocoder\n",
    "\n",
    "lat_lng_coords = None\n",
    "\n",
    "while(lat_lng_coords is None):\n",
    "    g = geocoder.google('{}, Toronto, Ontario'.format(postal_code))\n",
    "    lat_lng_coords = g.latlng\n",
    "    \n",
    "latitude = lat_lng_coords[0]\n",
    "longitutude = lat_lng_coords[1]"
   ]
  },
  {
   "cell_type": "code",
   "execution_count": 6,
   "metadata": {},
   "outputs": [],
   "source": [
    "from bs4 import BeautifulSoup\n",
    "import requests\n",
    "import pandas as pd"
   ]
  },
  {
   "cell_type": "code",
   "execution_count": 9,
   "metadata": {},
   "outputs": [],
   "source": [
    "can_postal_url = 'https://en.wikipedia.org/wiki/List_of_postal_codes_of_Canada:_M'\n",
    "source = requests.get(can_postal_url).text\n",
    "\n",
    "can_html = BeautifulSoup(source, 'html.parser')\n",
    "can_html = can_html.find('table')"
   ]
  },
  {
   "cell_type": "code",
   "execution_count": 12,
   "metadata": {},
   "outputs": [
    {
     "data": {
      "text/html": [
       "<div>\n",
       "<style scoped>\n",
       "    .dataframe tbody tr th:only-of-type {\n",
       "        vertical-align: middle;\n",
       "    }\n",
       "\n",
       "    .dataframe tbody tr th {\n",
       "        vertical-align: top;\n",
       "    }\n",
       "\n",
       "    .dataframe thead th {\n",
       "        text-align: right;\n",
       "    }\n",
       "</style>\n",
       "<table border=\"1\" class=\"dataframe\">\n",
       "  <thead>\n",
       "    <tr style=\"text-align: right;\">\n",
       "      <th></th>\n",
       "      <th>Postalcode</th>\n",
       "      <th>Borough</th>\n",
       "      <th>Neighborhood</th>\n",
       "    </tr>\n",
       "  </thead>\n",
       "  <tbody>\n",
       "    <tr>\n",
       "      <th>0</th>\n",
       "      <td>M1A</td>\n",
       "      <td>Not assigned</td>\n",
       "      <td>Not assigned</td>\n",
       "    </tr>\n",
       "    <tr>\n",
       "      <th>1</th>\n",
       "      <td>M2A</td>\n",
       "      <td>Not assigned</td>\n",
       "      <td>Not assigned</td>\n",
       "    </tr>\n",
       "    <tr>\n",
       "      <th>2</th>\n",
       "      <td>M3A</td>\n",
       "      <td>North York</td>\n",
       "      <td>Parkwoods</td>\n",
       "    </tr>\n",
       "    <tr>\n",
       "      <th>3</th>\n",
       "      <td>M4A</td>\n",
       "      <td>North York</td>\n",
       "      <td>Victoria Village</td>\n",
       "    </tr>\n",
       "    <tr>\n",
       "      <th>4</th>\n",
       "      <td>M5A</td>\n",
       "      <td>Downtown Toronto</td>\n",
       "      <td>Regent Park, Harbourfront</td>\n",
       "    </tr>\n",
       "  </tbody>\n",
       "</table>\n",
       "</div>"
      ],
      "text/plain": [
       "  Postalcode           Borough               Neighborhood\n",
       "0        M1A      Not assigned               Not assigned\n",
       "1        M2A      Not assigned               Not assigned\n",
       "2        M3A        North York                  Parkwoods\n",
       "3        M4A        North York           Victoria Village\n",
       "4        M5A  Downtown Toronto  Regent Park, Harbourfront"
      ]
     },
     "execution_count": 12,
     "metadata": {},
     "output_type": "execute_result"
    }
   ],
   "source": [
    "col_names = ['Postalcode', 'Borough', 'Neighborhood']\n",
    "can_df = pd.DataFrame(columns = col_names)\n",
    "\n",
    "for tr_cell in can_html.find_all('tr'):\n",
    "    row_data = []\n",
    "    for td_cell in tr_cell.find_all('td'):\n",
    "        row_data.append(td_cell.text.strip())\n",
    "    if len(row_data)==3:\n",
    "        can_df.loc[len(can_df)] = row_data\n",
    "        \n",
    "can_df.head()"
   ]
  },
  {
   "cell_type": "code",
   "execution_count": 29,
   "metadata": {},
   "outputs": [
    {
     "data": {
      "text/html": [
       "<div>\n",
       "<style scoped>\n",
       "    .dataframe tbody tr th:only-of-type {\n",
       "        vertical-align: middle;\n",
       "    }\n",
       "\n",
       "    .dataframe tbody tr th {\n",
       "        vertical-align: top;\n",
       "    }\n",
       "\n",
       "    .dataframe thead th {\n",
       "        text-align: right;\n",
       "    }\n",
       "</style>\n",
       "<table border=\"1\" class=\"dataframe\">\n",
       "  <thead>\n",
       "    <tr style=\"text-align: right;\">\n",
       "      <th></th>\n",
       "      <th>Postalcode</th>\n",
       "      <th>Borough</th>\n",
       "      <th>Neighborhood</th>\n",
       "    </tr>\n",
       "  </thead>\n",
       "  <tbody>\n",
       "    <tr>\n",
       "      <th>2</th>\n",
       "      <td>M3A</td>\n",
       "      <td>North York</td>\n",
       "      <td>Parkwoods</td>\n",
       "    </tr>\n",
       "    <tr>\n",
       "      <th>3</th>\n",
       "      <td>M4A</td>\n",
       "      <td>North York</td>\n",
       "      <td>Victoria Village</td>\n",
       "    </tr>\n",
       "    <tr>\n",
       "      <th>4</th>\n",
       "      <td>M5A</td>\n",
       "      <td>Downtown Toronto</td>\n",
       "      <td>Regent Park, Harbourfront</td>\n",
       "    </tr>\n",
       "    <tr>\n",
       "      <th>5</th>\n",
       "      <td>M6A</td>\n",
       "      <td>North York</td>\n",
       "      <td>Lawrence Manor, Lawrence Heights</td>\n",
       "    </tr>\n",
       "    <tr>\n",
       "      <th>6</th>\n",
       "      <td>M7A</td>\n",
       "      <td>Downtown Toronto</td>\n",
       "      <td>Queen's Park, Ontario Provincial Government</td>\n",
       "    </tr>\n",
       "    <tr>\n",
       "      <th>...</th>\n",
       "      <td>...</td>\n",
       "      <td>...</td>\n",
       "      <td>...</td>\n",
       "    </tr>\n",
       "    <tr>\n",
       "      <th>153</th>\n",
       "      <td>M1X</td>\n",
       "      <td>Scarborough</td>\n",
       "      <td>Upper Rouge</td>\n",
       "    </tr>\n",
       "    <tr>\n",
       "      <th>156</th>\n",
       "      <td>M4X</td>\n",
       "      <td>Downtown Toronto</td>\n",
       "      <td>St. James Town, Cabbagetown</td>\n",
       "    </tr>\n",
       "    <tr>\n",
       "      <th>157</th>\n",
       "      <td>M5X</td>\n",
       "      <td>Downtown Toronto</td>\n",
       "      <td>First Canadian Place, Underground city</td>\n",
       "    </tr>\n",
       "    <tr>\n",
       "      <th>160</th>\n",
       "      <td>M8X</td>\n",
       "      <td>Etobicoke</td>\n",
       "      <td>The Kingsway, Montgomery Road, Old Mill North</td>\n",
       "    </tr>\n",
       "    <tr>\n",
       "      <th>165</th>\n",
       "      <td>M4Y</td>\n",
       "      <td>Downtown Toronto</td>\n",
       "      <td>Church and Wellesley</td>\n",
       "    </tr>\n",
       "  </tbody>\n",
       "</table>\n",
       "<p>100 rows × 3 columns</p>\n",
       "</div>"
      ],
      "text/plain": [
       "    Postalcode           Borough  \\\n",
       "2          M3A        North York   \n",
       "3          M4A        North York   \n",
       "4          M5A  Downtown Toronto   \n",
       "5          M6A        North York   \n",
       "6          M7A  Downtown Toronto   \n",
       "..         ...               ...   \n",
       "153        M1X       Scarborough   \n",
       "156        M4X  Downtown Toronto   \n",
       "157        M5X  Downtown Toronto   \n",
       "160        M8X         Etobicoke   \n",
       "165        M4Y  Downtown Toronto   \n",
       "\n",
       "                                      Neighborhood  \n",
       "2                                        Parkwoods  \n",
       "3                                 Victoria Village  \n",
       "4                        Regent Park, Harbourfront  \n",
       "5                 Lawrence Manor, Lawrence Heights  \n",
       "6      Queen's Park, Ontario Provincial Government  \n",
       "..                                             ...  \n",
       "153                                    Upper Rouge  \n",
       "156                    St. James Town, Cabbagetown  \n",
       "157         First Canadian Place, Underground city  \n",
       "160  The Kingsway, Montgomery Road, Old Mill North  \n",
       "165                           Church and Wellesley  \n",
       "\n",
       "[100 rows x 3 columns]"
      ]
     },
     "execution_count": 29,
     "metadata": {},
     "output_type": "execute_result"
    }
   ],
   "source": [
    "df = can_df\n",
    "\n",
    "df = df.dropna()\n",
    "df = df[df['Borough'] != 'Not assigned']\n",
    "\n",
    "not_assigned_ids = df['Neighborhood'] =='Not assigned'\n",
    "df['Neighborhood'][not_assigned_ids] = df['Borough'][not_assigned_ids]\n",
    "\n",
    "df['Neighborhood'] = df['Neighborhood'].str.replace(' /', ',')\n",
    "df.head(100)"
   ]
  },
  {
   "cell_type": "code",
   "execution_count": 15,
   "metadata": {},
   "outputs": [
    {
     "data": {
      "text/html": [
       "<div>\n",
       "<style scoped>\n",
       "    .dataframe tbody tr th:only-of-type {\n",
       "        vertical-align: middle;\n",
       "    }\n",
       "\n",
       "    .dataframe tbody tr th {\n",
       "        vertical-align: top;\n",
       "    }\n",
       "\n",
       "    .dataframe thead th {\n",
       "        text-align: right;\n",
       "    }\n",
       "</style>\n",
       "<table border=\"1\" class=\"dataframe\">\n",
       "  <thead>\n",
       "    <tr style=\"text-align: right;\">\n",
       "      <th></th>\n",
       "      <th>Postalcode</th>\n",
       "      <th>Neighborhood_joined</th>\n",
       "    </tr>\n",
       "  </thead>\n",
       "  <tbody>\n",
       "    <tr>\n",
       "      <th>0</th>\n",
       "      <td>M1B</td>\n",
       "      <td>Malvern, Rouge</td>\n",
       "    </tr>\n",
       "    <tr>\n",
       "      <th>1</th>\n",
       "      <td>M1C</td>\n",
       "      <td>Rouge Hill, Port Union, Highland Creek</td>\n",
       "    </tr>\n",
       "    <tr>\n",
       "      <th>2</th>\n",
       "      <td>M1E</td>\n",
       "      <td>Guildwood, Morningside, West Hill</td>\n",
       "    </tr>\n",
       "    <tr>\n",
       "      <th>3</th>\n",
       "      <td>M1G</td>\n",
       "      <td>Woburn</td>\n",
       "    </tr>\n",
       "    <tr>\n",
       "      <th>4</th>\n",
       "      <td>M1H</td>\n",
       "      <td>Cedarbrae</td>\n",
       "    </tr>\n",
       "  </tbody>\n",
       "</table>\n",
       "</div>"
      ],
      "text/plain": [
       "  Postalcode                     Neighborhood_joined\n",
       "0        M1B                          Malvern, Rouge\n",
       "1        M1C  Rouge Hill, Port Union, Highland Creek\n",
       "2        M1E       Guildwood, Morningside, West Hill\n",
       "3        M1G                                  Woburn\n",
       "4        M1H                               Cedarbrae"
      ]
     },
     "execution_count": 15,
     "metadata": {},
     "output_type": "execute_result"
    }
   ],
   "source": [
    "temp = df.groupby('Postalcode')['Neighborhood'].apply(lambda x: \"%s\" % ','.join(x))\n",
    "temp = temp.reset_index(drop=False)\n",
    "temp.rename(columns={'Neighborhood': 'Neighborhood_joined'}, inplace=True)\n",
    "\n",
    "temp.head()"
   ]
  },
  {
   "cell_type": "code",
   "execution_count": 16,
   "metadata": {},
   "outputs": [
    {
     "data": {
      "text/html": [
       "<div>\n",
       "<style scoped>\n",
       "    .dataframe tbody tr th:only-of-type {\n",
       "        vertical-align: middle;\n",
       "    }\n",
       "\n",
       "    .dataframe tbody tr th {\n",
       "        vertical-align: top;\n",
       "    }\n",
       "\n",
       "    .dataframe thead th {\n",
       "        text-align: right;\n",
       "    }\n",
       "</style>\n",
       "<table border=\"1\" class=\"dataframe\">\n",
       "  <thead>\n",
       "    <tr style=\"text-align: right;\">\n",
       "      <th></th>\n",
       "      <th>Postalcode</th>\n",
       "      <th>Borough</th>\n",
       "      <th>Neighborhood</th>\n",
       "    </tr>\n",
       "  </thead>\n",
       "  <tbody>\n",
       "    <tr>\n",
       "      <th>0</th>\n",
       "      <td>M3A</td>\n",
       "      <td>North York</td>\n",
       "      <td>Parkwoods</td>\n",
       "    </tr>\n",
       "    <tr>\n",
       "      <th>1</th>\n",
       "      <td>M4A</td>\n",
       "      <td>North York</td>\n",
       "      <td>Victoria Village</td>\n",
       "    </tr>\n",
       "    <tr>\n",
       "      <th>2</th>\n",
       "      <td>M5A</td>\n",
       "      <td>Downtown Toronto</td>\n",
       "      <td>Regent Park, Harbourfront</td>\n",
       "    </tr>\n",
       "    <tr>\n",
       "      <th>3</th>\n",
       "      <td>M6A</td>\n",
       "      <td>North York</td>\n",
       "      <td>Lawrence Manor, Lawrence Heights</td>\n",
       "    </tr>\n",
       "    <tr>\n",
       "      <th>4</th>\n",
       "      <td>M7A</td>\n",
       "      <td>Downtown Toronto</td>\n",
       "      <td>Queen's Park, Ontario Provincial Government</td>\n",
       "    </tr>\n",
       "  </tbody>\n",
       "</table>\n",
       "</div>"
      ],
      "text/plain": [
       "  Postalcode           Borough                                 Neighborhood\n",
       "0        M3A        North York                                    Parkwoods\n",
       "1        M4A        North York                             Victoria Village\n",
       "2        M5A  Downtown Toronto                    Regent Park, Harbourfront\n",
       "3        M6A        North York             Lawrence Manor, Lawrence Heights\n",
       "4        M7A  Downtown Toronto  Queen's Park, Ontario Provincial Government"
      ]
     },
     "execution_count": 16,
     "metadata": {},
     "output_type": "execute_result"
    }
   ],
   "source": [
    "df_merge = pd.merge(df, temp, on='Postalcode')\n",
    "df_merge.drop(['Neighborhood'], axis = 1, inplace=True)\n",
    "df_merge.drop_duplicates(inplace = True)\n",
    "df_merge.rename(columns = {'Neighborhood_joined': 'Neighborhood'}, inplace=True)\n",
    "df_merge.head()"
   ]
  },
  {
   "cell_type": "code",
   "execution_count": 17,
   "metadata": {},
   "outputs": [
    {
     "data": {
      "text/plain": [
       "(103, 3)"
      ]
     },
     "execution_count": 17,
     "metadata": {},
     "output_type": "execute_result"
    }
   ],
   "source": [
    "df_merge.shape"
   ]
  },
  {
   "cell_type": "code",
   "execution_count": 18,
   "metadata": {},
   "outputs": [],
   "source": [
    "import geocoder\n",
    "import folium"
   ]
  },
  {
   "cell_type": "code",
   "execution_count": 30,
   "metadata": {},
   "outputs": [
    {
     "name": "stdout",
     "output_type": "stream",
     "text": [
      "   Postalcode   Latitude  Longitude           Borough  \\\n",
      "0         M4E  43.676357 -79.293031      East Toronto   \n",
      "1         M4K  43.679557 -79.352188      East Toronto   \n",
      "2         M4L  43.668999 -79.315572      East Toronto   \n",
      "3         M4M  43.659526 -79.340923      East Toronto   \n",
      "4         M4N  43.728020 -79.388790   Central Toronto   \n",
      "5         M4P  43.712751 -79.390197   Central Toronto   \n",
      "6         M4R  43.715383 -79.405678   Central Toronto   \n",
      "7         M4S  43.704324 -79.388790   Central Toronto   \n",
      "8         M4T  43.689574 -79.383160   Central Toronto   \n",
      "9         M4V  43.686412 -79.400049   Central Toronto   \n",
      "10        M4W  43.679563 -79.377529  Downtown Toronto   \n",
      "11        M4X  43.667967 -79.367675  Downtown Toronto   \n",
      "12        M4Y  43.665860 -79.383160  Downtown Toronto   \n",
      "13        M5A  43.654260 -79.360636  Downtown Toronto   \n",
      "14        M5B  43.657162 -79.378937  Downtown Toronto   \n",
      "15        M5C  43.651494 -79.375418  Downtown Toronto   \n",
      "16        M5E  43.644771 -79.373306  Downtown Toronto   \n",
      "17        M5G  43.657952 -79.387383  Downtown Toronto   \n",
      "18        M5H  43.650571 -79.384568  Downtown Toronto   \n",
      "19        M5J  43.640816 -79.381752  Downtown Toronto   \n",
      "20        M5K  43.647177 -79.381576  Downtown Toronto   \n",
      "21        M5L  43.648198 -79.379817  Downtown Toronto   \n",
      "22        M5N  43.711695 -79.416936   Central Toronto   \n",
      "23        M5P  43.696948 -79.411307   Central Toronto   \n",
      "24        M5R  43.672710 -79.405678   Central Toronto   \n",
      "25        M5S  43.662696 -79.400049  Downtown Toronto   \n",
      "26        M5T  43.653206 -79.400049  Downtown Toronto   \n",
      "27        M5V  43.628947 -79.394420  Downtown Toronto   \n",
      "28        M5W  43.646435 -79.374846  Downtown Toronto   \n",
      "29        M5X  43.648429 -79.382280  Downtown Toronto   \n",
      "30        M6G  43.669542 -79.422564  Downtown Toronto   \n",
      "31        M6H  43.669005 -79.442259      West Toronto   \n",
      "32        M6J  43.647927 -79.419750      West Toronto   \n",
      "33        M6K  43.636847 -79.428191      West Toronto   \n",
      "34        M6P  43.661608 -79.464763      West Toronto   \n",
      "35        M6R  43.648960 -79.456325      West Toronto   \n",
      "36        M6S  43.651571 -79.484450      West Toronto   \n",
      "37        M7A  43.662301 -79.389494  Downtown Toronto   \n",
      "38        M7Y  43.662744 -79.321558      East Toronto   \n",
      "\n",
      "                                         Neighborhood  \n",
      "0                                         The Beaches  \n",
      "1                        The Danforth West, Riverdale  \n",
      "2                      India Bazaar, The Beaches West  \n",
      "3                                     Studio District  \n",
      "4                                       Lawrence Park  \n",
      "5                                    Davisville North  \n",
      "6                  North Toronto West,  Lawrence Park  \n",
      "7                                          Davisville  \n",
      "8                         Moore Park, Summerhill East  \n",
      "9   Summerhill West, Rathnelly, South Hill, Forest...  \n",
      "10                                           Rosedale  \n",
      "11                        St. James Town, Cabbagetown  \n",
      "12                               Church and Wellesley  \n",
      "13                          Regent Park, Harbourfront  \n",
      "14                           Garden District, Ryerson  \n",
      "15                                     St. James Town  \n",
      "16                                        Berczy Park  \n",
      "17                                 Central Bay Street  \n",
      "18                           Richmond, Adelaide, King  \n",
      "19  Harbourfront East, Union Station, Toronto Islands  \n",
      "20           Toronto Dominion Centre, Design Exchange  \n",
      "21                     Commerce Court, Victoria Hotel  \n",
      "22                                           Roselawn  \n",
      "23    Forest Hill North & West, Forest Hill Road Park  \n",
      "24                The Annex, North Midtown, Yorkville  \n",
      "25                     University of Toronto, Harbord  \n",
      "26          Kensington Market, Chinatown, Grange Park  \n",
      "27  CN Tower, King and Spadina, Railway Lands, Har...  \n",
      "28                                     Stn A PO Boxes  \n",
      "29             First Canadian Place, Underground city  \n",
      "30                                           Christie  \n",
      "31                       Dufferin, Dovercourt Village  \n",
      "32                           Little Portugal, Trinity  \n",
      "33       Brockton, Parkdale Village, Exhibition Place  \n",
      "34                      High Park, The Junction South  \n",
      "35                             Parkdale, Roncesvalles  \n",
      "36                                 Runnymede, Swansea  \n",
      "37        Queen's Park, Ontario Provincial Government  \n",
      "38  Business reply mail Processing Centre, South C...  \n"
     ]
    }
   ],
   "source": [
    "geo_df = pd.read_csv('http://cocl.us/Geospatial_data')\n",
    "geo_df.rename(columns={'Postal Code':'Postalcode'}, inplace=True)\n",
    "geo_merge = pd.merge(geo_df, df_merge, on='Postalcode')\n",
    "geo_merge.head(100)\n",
    "\n",
    "toronto_df = geo_merge[geo_merge['Borough'].str.contains(\"Toronto\")]\n",
    "toronto_df.reset_index(drop=True, inplace=True)\n",
    "\n",
    "print(toronto_df.head(100))"
   ]
  },
  {
   "cell_type": "code",
   "execution_count": 27,
   "metadata": {},
   "outputs": [
    {
     "data": {
      "text/html": [
       "<div style=\"width:100%;\"><div style=\"position:relative;width:100%;height:0;padding-bottom:60%;\"><span style=\"color:#565656\">Make this Notebook Trusted to load map: File -> Trust Notebook</span><iframe src=\"about:blank\" style=\"position:absolute;width:100%;height:100%;left:0;top:0;border:none !important;\" data-html=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 onload=\"this.contentDocument.open();this.contentDocument.write(atob(this.getAttribute('data-html')));this.contentDocument.close();\" allowfullscreen webkitallowfullscreen mozallowfullscreen></iframe></div></div>"
      ],
      "text/plain": [
       "<folium.folium.Map at 0x6e50838>"
      ]
     },
     "execution_count": 27,
     "metadata": {},
     "output_type": "execute_result"
    }
   ],
   "source": [
    "# Create Toronto map\n",
    "map_toronto = folium.Map(location=[43.65, -79.38], zoom_start=10)\n",
    "\n",
    "# Add markers\n",
    "for lat, lng, borough, neighborhood in zip(toronto_df['Latitude'], toronto_df['Longitude'], toronto_df['Borough'], toronto_df['Neighborhood']):\n",
    "    label = '{}, {}'.format(neighborhood, borough)\n",
    "    label = folium.Popup(label, parse_html=True)\n",
    "    folium.CircleMarker(\n",
    "        [lat, lng],\n",
    "        radius=7,\n",
    "        popup=label,\n",
    "        color='green',\n",
    "        fill=True,\n",
    "        fill_color='#3186cc',\n",
    "        fill_opacity=0.7,\n",
    "        parse_html=False).add_to(map_toronto)  \n",
    "    \n",
    "map_toronto"
   ]
  },
  {
   "cell_type": "code",
   "execution_count": null,
   "metadata": {},
   "outputs": [],
   "source": []
  }
 ],
 "metadata": {
  "kernelspec": {
   "display_name": "Python 3.8.1 32-bit",
   "language": "python",
   "name": "python38132bit6de0232f7ec14067b96cb29499e0cf67"
  },
  "language_info": {
   "codemirror_mode": {
    "name": "ipython",
    "version": 3
   },
   "file_extension": ".py",
   "mimetype": "text/x-python",
   "name": "python",
   "nbconvert_exporter": "python",
   "pygments_lexer": "ipython3",
   "version": "3.8.1"
  }
 },
 "nbformat": 4,
 "nbformat_minor": 2
}
